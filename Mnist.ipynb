{
 "cells": [
  {
   "cell_type": "code",
   "execution_count": 26,
   "id": "327c78ad-b578-4896-a640-20d005ebcb13",
   "metadata": {},
   "outputs": [],
   "source": [
    "import matplotlib.pyplot as plt\n",
    "\n",
    "# Import datasets, classifiers and performance metrics\n",
    "from sklearn import datasets, svm, metrics\n",
    "from sklearn.model_selection import train_test_split\n",
    "import emlp\n",
    "\n",
    "import objax\n",
    "import jax.numpy as jnp\n",
    "import numpy as np\n",
    "from tqdm.auto import tqdm\n",
    "from torch.utils.data import DataLoader\n",
    "from jax import vmap\n",
    "from scipy.ndimage import rotate\n",
    "from emlp.groups import D, C\n",
    "from torch.utils.data import DataLoader\n",
    "from torchvision import datasets, transforms\n",
    "import torch\n",
    "\n",
    "from emlp.reps import Scalar, Vector, T\n",
    "\n"
   ]
  },
  {
   "cell_type": "code",
   "execution_count": 7,
   "id": "e9f28554-94b2-491a-b8c8-2db08d781bc2",
   "metadata": {},
   "outputs": [
    {
     "data": {
      "text/plain": [
       "<matplotlib.image.AxesImage at 0x7f956c58ae20>"
      ]
     },
     "execution_count": 7,
     "metadata": {},
     "output_type": "execute_result"
    },
    {
     "data": {
      "text/plain": [
       "<Figure size 432x288 with 0 Axes>"
      ]
     },
     "metadata": {},
     "output_type": "display_data"
    },
    {
     "data": {
      "image/png": "[encoded data removed]",
      "text/plain": [
       "<Figure size 288x288 with 1 Axes>"
      ]
     },
     "metadata": {
      "needs_background": "light"
     },
     "output_type": "display_data"
    }
   ],
   "source": [
    "plt.gray()\n",
    "plt.matshow(rotate(digits.images[2], 90))"
   ]
  },
  {
   "cell_type": "code",
   "execution_count": 1,
   "id": "d6b6cf8c-c0e1-4d9d-a204-b77e31a8aaaf",
   "metadata": {},
   "outputs": [
    {
     "ename": "NameError",
     "evalue": "name 'Inertia' is not defined",
     "output_type": "error",
     "traceback": [
      "\u001b[0;31m---------------------------------------------------------------------------\u001b[0m",
      "\u001b[0;31mNameError\u001b[0m                                 Traceback (most recent call last)",
      "\u001b[0;32m<ipython-input-1-ef30ec759419>\u001b[0m in \u001b[0;36m<module>\u001b[0;34m\u001b[0m\n\u001b[1;32m      9\u001b[0m \u001b[0;34m\u001b[0m\u001b[0m\n\u001b[1;32m     10\u001b[0m \u001b[0;34m\u001b[0m\u001b[0m\n\u001b[0;32m---> 11\u001b[0;31m def train_emlp(G, train=Inertia(1000), test=Inertia(2000), num_layers=3, channels=384,\n\u001b[0m\u001b[1;32m     12\u001b[0m                batch_size=500, lr=3e-3, num_epochs=5):\n\u001b[1;32m     13\u001b[0m \u001b[0;34m\u001b[0m\u001b[0m\n",
      "\u001b[0;31mNameError\u001b[0m: name 'Inertia' is not defined"
     ]
    }
   ],
   "source": [
    "MNIST_TRAIN_SIZE = 60000\n",
    "MNIST_TEST_SIZE = 10000\n",
    "SKLEARN_DIGITS_TRAIN_SIZE = 1247\n",
    "SKLEARN_DIGITS_TEST_SIZE = 550\n",
    "\n",
    "\n",
    "def rel_err(a,b):\n",
    "    return jnp.sqrt(((a-b)**2).mean())/(jnp.sqrt((a**2).mean())+jnp.sqrt((b**2).mean()))#\n",
    "\n",
    "\n",
    "def train_emlp(G, train=Inertia(1000), test=Inertia(2000), num_layers=3, channels=384,\n",
    "               batch_size=500, lr=3e-3, num_epochs=5):\n",
    "\n",
    "    rep_in = 28 * Scalar\n",
    "    rep_out = 1 * Scalar\n",
    "    model = emlp.nn.EMLP(rep_in, rep_out, group=G, num_layers=num_layers, ch=channels)\n",
    "  \n",
    "    opt = objax.optimizer.Adam(model.vars())\n",
    "        \n",
    "    @objax.Jit\n",
    "    @objax.Function.with_vars(model.vars())\n",
    "    def loss(x, y):\n",
    "        yhat = model(x)\n",
    "        return ((yhat-y)**2).mean()\n",
    "\n",
    "    grad_and_val = objax.GradValues(loss, model.vars())\n",
    "\n",
    "    \n",
    "    @objax.Jit\n",
    "    @objax.Function.with_vars(model.vars()+opt.vars())\n",
    "    def train_op(x, y, lr):\n",
    "        g, v = grad_and_val(x, y)\n",
    "        opt(lr=lr, grads=g)\n",
    "        return v\n",
    "\n",
    "  \n",
    "    train_losses = []\n",
    "    test_losses = []\n",
    "    for epoch in tqdm(range(num_epochs)):\n",
    "        train_losses.append(np.mean([train_op(jnp.array(x), jnp.array(y),lr) for (x,y) in train]))\n",
    "        if not epoch % 10:\n",
    "            test_losses.append(np.mean([loss(jnp.array(x), jnp.array(y)) for (x,y) in test]))\n",
    "  \n",
    "    #print(f\"Average test equivariance error {np.mean([equivariance_err(G, train, mb) for mb in testloader]):.2e}\")\n",
    "    return train_losses, test_losses\n",
    "\n",
    "def equivariance_err(G, train, mb):\n",
    "    rin,rout = train.rep_in(G),train.rep_out(G)\n",
    "    x,y = mb\n",
    "    x,y= jnp.array(x),jnp.array(y)\n",
    "    gs = G.samples(x.shape[0])\n",
    "    rho_gin = vmap(rin.rho_dense)(gs)\n",
    "    rho_gout = vmap(rout.rho_dense)(gs)\n",
    "    y1 = model((rho_gin@x[...,None])[...,0],training=False)\n",
    "    y2 = (rho_gout@model(x,training=False)[...,None])[...,0]\n",
    "    return rel_err(y1,y2)\n",
    "\n",
    "def compare_groups(grps, train=Inertia(1000), test=Inertia(2000), num_layers=3, channels=384\n",
    "                   , batch_size=5, lr=3e-3, num_epochs=5):\n",
    "    for name, G in grps.items():\n",
    "        train_losses, test_losses = train_emlp(G, train, test, num_layers, channels, batch_size, lr, num_epochs)\n",
    "        plt.plot(np.arange(num_epochs), train_losses, label=name + ' train loss')\n",
    "        plt.plot(np.arange(0, num_epochs, 10), test_losses, label=name+' test loss')\n",
    "    plt.legend()\n",
    "    plt.yscale('log')\n",
    "    plt.show()\n",
    "\n",
    "    \n",
    "def get_sklearn_digits_dataset(loader):\n",
    "    \"\"\"Downloads Sklearn handwritten digits dataset.\n",
    "    Uses the last SKLEARN_DIGITS_TEST_SIZE examples as the test\n",
    "    This is (hard-coded) -- do not change.\n",
    "    Parameters\n",
    "    ----------\n",
    "    loader : str (values: 'train' or 'test').\"\"\"\n",
    "    from torch.utils.data import Dataset\n",
    "    from sklearn.datasets import load_digits\n",
    "\n",
    "    class TorchDataset(Dataset):\n",
    "        \"\"\"Abstracts a numpy array as a PyTorch dataset.\"\"\"\n",
    "\n",
    "        def __init__(self, data, targets, transform=None):\n",
    "            self.data = torch.from_numpy(data).float()\n",
    "            self.targets = torch.from_numpy(targets).long()\n",
    "            self.transform = transform\n",
    "\n",
    "        def __getitem__(self, index):\n",
    "            x = self.data[index]\n",
    "            y = self.targets[index]\n",
    "            if self.transform:\n",
    "                x = self.transform(x)\n",
    "            return x, y\n",
    "\n",
    "        def __len__(self):\n",
    "            return len(self.data)\n",
    "\n",
    "    transform = transforms.Compose([\n",
    "        transforms.ToPILImage(),\n",
    "        transforms.Resize(28),\n",
    "        transforms.ToTensor(),\n",
    "        transforms.Normalize((0.1307,), (0.3081,)),\n",
    "    ])\n",
    "    # Get sklearn digits dataset\n",
    "    X_all, y_all = load_digits(return_X_y=True)\n",
    "    X_all = X_all.reshape((len(X_all), 8, 8))\n",
    "    y_train = y_all[:-SKLEARN_DIGITS_TEST_SIZE]\n",
    "    y_test = y_all[-SKLEARN_DIGITS_TEST_SIZE:]\n",
    "    X_train = X_all[:-SKLEARN_DIGITS_TEST_SIZE]\n",
    "    X_test = X_all[-SKLEARN_DIGITS_TEST_SIZE:]\n",
    "    if loader == 'train':\n",
    "        return  TorchDataset(X_train, y_train, transform=transform)\n",
    "    elif loader == 'test':\n",
    "        return TorchDataset(X_test, y_test, transform=transform)\n",
    "    else:  # prama: no cover\n",
    "        raise ValueError(\"loader must be either str 'train' or str 'test'.\")\n",
    "    \n",
    "\n",
    "device = torch.device('cuda' if torch.cuda.is_available() else 'cpu')\n",
    "trainloader = get_sklearn_digits_dataset(\"train\")\n",
    "testloader = get_sklearn_digits_dataset(\"test\")\n",
    "\n",
    "\n",
    "d8 = D(8)\n",
    "c4 = C(4)\n",
    "c2 = C(2)\n",
    "groups = {'D8': d8, \"C4\": c4, \"C(2)\": c2}\n",
    "print(groups.items())\n",
    "compare_groups(groups, train=trainloader, test=testloader)"
   ]
  },
  {
   "cell_type": "code",
   "execution_count": 69,
   "id": "206a0b6f-f6b9-4bb2-90c0-07a2e7170d8c",
   "metadata": {},
   "outputs": [
    {
     "data": {
      "application/vnd.jupyter.widget-view+json": {
       "model_id": "2e7be43ca0d34c96ad8f76daf4531066",
       "version_major": 2,
       "version_minor": 0
      },
      "text/plain": [
       "  0%|          | 0/500 [00:00<?, ?it/s]"
      ]
     },
     "metadata": {},
     "output_type": "display_data"
    },
    {
     "ename": "KeyboardInterrupt",
     "evalue": "",
     "output_type": "error",
     "traceback": [
      "\u001b[0;31m---------------------------------------------------------------------------\u001b[0m",
      "\u001b[0;31mKeyboardInterrupt\u001b[0m                         Traceback (most recent call last)",
      "\u001b[0;32m<ipython-input-69-b9472d32083b>\u001b[0m in \u001b[0;36m<module>\u001b[0;34m\u001b[0m\n\u001b[1;32m     32\u001b[0m \u001b[0mlol\u001b[0m \u001b[0;34m=\u001b[0m \u001b[0;34m[\u001b[0m\u001b[0;34m]\u001b[0m\u001b[0;34m\u001b[0m\u001b[0;34m\u001b[0m\u001b[0m\n\u001b[1;32m     33\u001b[0m \u001b[0;32mfor\u001b[0m \u001b[0mepoch\u001b[0m \u001b[0;32min\u001b[0m \u001b[0mtqdm\u001b[0m\u001b[0;34m(\u001b[0m\u001b[0mrange\u001b[0m\u001b[0;34m(\u001b[0m\u001b[0mnum_epochs\u001b[0m\u001b[0;34m)\u001b[0m\u001b[0;34m)\u001b[0m\u001b[0;34m:\u001b[0m\u001b[0;34m\u001b[0m\u001b[0;34m\u001b[0m\u001b[0m\n\u001b[0;32m---> 34\u001b[0;31m     \u001b[0mtrain_losses\u001b[0m\u001b[0;34m.\u001b[0m\u001b[0mappend\u001b[0m\u001b[0;34m(\u001b[0m\u001b[0mnp\u001b[0m\u001b[0;34m.\u001b[0m\u001b[0mmean\u001b[0m\u001b[0;34m(\u001b[0m\u001b[0;34m[\u001b[0m\u001b[0mtrain_op\u001b[0m\u001b[0;34m(\u001b[0m\u001b[0mjnp\u001b[0m\u001b[0;34m.\u001b[0m\u001b[0marray\u001b[0m\u001b[0;34m(\u001b[0m\u001b[0mx\u001b[0m\u001b[0;34m)\u001b[0m\u001b[0;34m,\u001b[0m \u001b[0mjnp\u001b[0m\u001b[0;34m.\u001b[0m\u001b[0marray\u001b[0m\u001b[0;34m(\u001b[0m\u001b[0my\u001b[0m\u001b[0;34m)\u001b[0m\u001b[0;34m,\u001b[0m\u001b[0mlr\u001b[0m\u001b[0;34m)\u001b[0m \u001b[0;32mfor\u001b[0m \u001b[0;34m(\u001b[0m\u001b[0mx\u001b[0m\u001b[0;34m,\u001b[0m\u001b[0my\u001b[0m\u001b[0;34m)\u001b[0m \u001b[0;32min\u001b[0m \u001b[0mtrainloader\u001b[0m\u001b[0;34m]\u001b[0m\u001b[0;34m)\u001b[0m\u001b[0;34m)\u001b[0m\u001b[0;34m\u001b[0m\u001b[0;34m\u001b[0m\u001b[0m\n\u001b[0m\u001b[1;32m     35\u001b[0m     \u001b[0;32mif\u001b[0m \u001b[0;32mnot\u001b[0m \u001b[0mepoch\u001b[0m \u001b[0;34m%\u001b[0m \u001b[0;36m10\u001b[0m\u001b[0;34m:\u001b[0m\u001b[0;34m\u001b[0m\u001b[0;34m\u001b[0m\u001b[0m\n\u001b[1;32m     36\u001b[0m         \u001b[0mtest_losses\u001b[0m\u001b[0;34m.\u001b[0m\u001b[0mappend\u001b[0m\u001b[0;34m(\u001b[0m\u001b[0mnp\u001b[0m\u001b[0;34m.\u001b[0m\u001b[0mmean\u001b[0m\u001b[0;34m(\u001b[0m\u001b[0;34m[\u001b[0m\u001b[0mloss\u001b[0m\u001b[0;34m(\u001b[0m\u001b[0mjnp\u001b[0m\u001b[0;34m.\u001b[0m\u001b[0marray\u001b[0m\u001b[0;34m(\u001b[0m\u001b[0mx\u001b[0m\u001b[0;34m)\u001b[0m\u001b[0;34m,\u001b[0m \u001b[0mjnp\u001b[0m\u001b[0;34m.\u001b[0m\u001b[0marray\u001b[0m\u001b[0;34m(\u001b[0m\u001b[0my\u001b[0m\u001b[0;34m)\u001b[0m\u001b[0;34m)\u001b[0m \u001b[0;32mfor\u001b[0m \u001b[0;34m(\u001b[0m\u001b[0mx\u001b[0m\u001b[0;34m,\u001b[0m\u001b[0my\u001b[0m\u001b[0;34m)\u001b[0m \u001b[0;32min\u001b[0m \u001b[0mtestloader\u001b[0m\u001b[0;34m]\u001b[0m\u001b[0;34m)\u001b[0m\u001b[0;34m)\u001b[0m\u001b[0;34m\u001b[0m\u001b[0;34m\u001b[0m\u001b[0m\n",
      "\u001b[0;32m<ipython-input-69-b9472d32083b>\u001b[0m in \u001b[0;36m<listcomp>\u001b[0;34m(.0)\u001b[0m\n\u001b[1;32m     32\u001b[0m \u001b[0mlol\u001b[0m \u001b[0;34m=\u001b[0m \u001b[0;34m[\u001b[0m\u001b[0;34m]\u001b[0m\u001b[0;34m\u001b[0m\u001b[0;34m\u001b[0m\u001b[0m\n\u001b[1;32m     33\u001b[0m \u001b[0;32mfor\u001b[0m \u001b[0mepoch\u001b[0m \u001b[0;32min\u001b[0m \u001b[0mtqdm\u001b[0m\u001b[0;34m(\u001b[0m\u001b[0mrange\u001b[0m\u001b[0;34m(\u001b[0m\u001b[0mnum_epochs\u001b[0m\u001b[0;34m)\u001b[0m\u001b[0;34m)\u001b[0m\u001b[0;34m:\u001b[0m\u001b[0;34m\u001b[0m\u001b[0;34m\u001b[0m\u001b[0m\n\u001b[0;32m---> 34\u001b[0;31m     \u001b[0mtrain_losses\u001b[0m\u001b[0;34m.\u001b[0m\u001b[0mappend\u001b[0m\u001b[0;34m(\u001b[0m\u001b[0mnp\u001b[0m\u001b[0;34m.\u001b[0m\u001b[0mmean\u001b[0m\u001b[0;34m(\u001b[0m\u001b[0;34m[\u001b[0m\u001b[0mtrain_op\u001b[0m\u001b[0;34m(\u001b[0m\u001b[0mjnp\u001b[0m\u001b[0;34m.\u001b[0m\u001b[0marray\u001b[0m\u001b[0;34m(\u001b[0m\u001b[0mx\u001b[0m\u001b[0;34m)\u001b[0m\u001b[0;34m,\u001b[0m \u001b[0mjnp\u001b[0m\u001b[0;34m.\u001b[0m\u001b[0marray\u001b[0m\u001b[0;34m(\u001b[0m\u001b[0my\u001b[0m\u001b[0;34m)\u001b[0m\u001b[0;34m,\u001b[0m\u001b[0mlr\u001b[0m\u001b[0;34m)\u001b[0m \u001b[0;32mfor\u001b[0m \u001b[0;34m(\u001b[0m\u001b[0mx\u001b[0m\u001b[0;34m,\u001b[0m\u001b[0my\u001b[0m\u001b[0;34m)\u001b[0m \u001b[0;32min\u001b[0m \u001b[0mtrainloader\u001b[0m\u001b[0;34m]\u001b[0m\u001b[0;34m)\u001b[0m\u001b[0;34m)\u001b[0m\u001b[0;34m\u001b[0m\u001b[0;34m\u001b[0m\u001b[0m\n\u001b[0m\u001b[1;32m     35\u001b[0m     \u001b[0;32mif\u001b[0m \u001b[0;32mnot\u001b[0m \u001b[0mepoch\u001b[0m \u001b[0;34m%\u001b[0m \u001b[0;36m10\u001b[0m\u001b[0;34m:\u001b[0m\u001b[0;34m\u001b[0m\u001b[0;34m\u001b[0m\u001b[0m\n\u001b[1;32m     36\u001b[0m         \u001b[0mtest_losses\u001b[0m\u001b[0;34m.\u001b[0m\u001b[0mappend\u001b[0m\u001b[0;34m(\u001b[0m\u001b[0mnp\u001b[0m\u001b[0;34m.\u001b[0m\u001b[0mmean\u001b[0m\u001b[0;34m(\u001b[0m\u001b[0;34m[\u001b[0m\u001b[0mloss\u001b[0m\u001b[0;34m(\u001b[0m\u001b[0mjnp\u001b[0m\u001b[0;34m.\u001b[0m\u001b[0marray\u001b[0m\u001b[0;34m(\u001b[0m\u001b[0mx\u001b[0m\u001b[0;34m)\u001b[0m\u001b[0;34m,\u001b[0m \u001b[0mjnp\u001b[0m\u001b[0;34m.\u001b[0m\u001b[0marray\u001b[0m\u001b[0;34m(\u001b[0m\u001b[0my\u001b[0m\u001b[0;34m)\u001b[0m\u001b[0;34m)\u001b[0m \u001b[0;32mfor\u001b[0m \u001b[0;34m(\u001b[0m\u001b[0mx\u001b[0m\u001b[0;34m,\u001b[0m\u001b[0my\u001b[0m\u001b[0;34m)\u001b[0m \u001b[0;32min\u001b[0m \u001b[0mtestloader\u001b[0m\u001b[0;34m]\u001b[0m\u001b[0;34m)\u001b[0m\u001b[0;34m)\u001b[0m\u001b[0;34m\u001b[0m\u001b[0;34m\u001b[0m\u001b[0m\n",
      "\u001b[0;32m~/anaconda3/lib/python3.8/site-packages/objax/module.py\u001b[0m in \u001b[0;36m__call__\u001b[0;34m(self, *args, **kwargs)\u001b[0m\n\u001b[1;32m    256\u001b[0m     \u001b[0;32mdef\u001b[0m \u001b[0m__call__\u001b[0m\u001b[0;34m(\u001b[0m\u001b[0mself\u001b[0m\u001b[0;34m,\u001b[0m \u001b[0;34m*\u001b[0m\u001b[0margs\u001b[0m\u001b[0;34m,\u001b[0m \u001b[0;34m**\u001b[0m\u001b[0mkwargs\u001b[0m\u001b[0;34m)\u001b[0m\u001b[0;34m:\u001b[0m\u001b[0;34m\u001b[0m\u001b[0;34m\u001b[0m\u001b[0m\n\u001b[1;32m    257\u001b[0m         \u001b[0;34m\"\"\"Call the compiled version of the function or module.\"\"\"\u001b[0m\u001b[0;34m\u001b[0m\u001b[0;34m\u001b[0m\u001b[0m\n\u001b[0;32m--> 258\u001b[0;31m         \u001b[0moutput\u001b[0m\u001b[0;34m,\u001b[0m \u001b[0mchanges\u001b[0m \u001b[0;34m=\u001b[0m \u001b[0mself\u001b[0m\u001b[0;34m.\u001b[0m\u001b[0m_call\u001b[0m\u001b[0;34m(\u001b[0m\u001b[0mself\u001b[0m\u001b[0;34m.\u001b[0m\u001b[0mvc\u001b[0m\u001b[0;34m.\u001b[0m\u001b[0mtensors\u001b[0m\u001b[0;34m(\u001b[0m\u001b[0;34m)\u001b[0m\u001b[0;34m,\u001b[0m \u001b[0mkwargs\u001b[0m\u001b[0;34m,\u001b[0m \u001b[0;34m*\u001b[0m\u001b[0margs\u001b[0m\u001b[0;34m)\u001b[0m\u001b[0;34m\u001b[0m\u001b[0;34m\u001b[0m\u001b[0m\n\u001b[0m\u001b[1;32m    259\u001b[0m         \u001b[0mself\u001b[0m\u001b[0;34m.\u001b[0m\u001b[0mvc\u001b[0m\u001b[0;34m.\u001b[0m\u001b[0massign\u001b[0m\u001b[0;34m(\u001b[0m\u001b[0mchanges\u001b[0m\u001b[0;34m)\u001b[0m\u001b[0;34m\u001b[0m\u001b[0;34m\u001b[0m\u001b[0m\n\u001b[1;32m    260\u001b[0m         \u001b[0;32mreturn\u001b[0m \u001b[0moutput\u001b[0m\u001b[0;34m\u001b[0m\u001b[0;34m\u001b[0m\u001b[0m\n",
      "\u001b[0;31mKeyboardInterrupt\u001b[0m: "
     ]
    }
   ],
   "source": [
    "rep_in = 28 * Scalar\n",
    "rep_out = 10 * Scalar\n",
    "model = emlp.nn.EMLP(rep_in, rep_out, group=D(8), num_layers=3, ch=318)\n",
    "  \n",
    "opt = objax.optimizer.Adam(model.vars())\n",
    "\n",
    "predict = objax.Jit(lambda x: objax.functional.softmax(model(x)), model.vars())\n",
    "        \n",
    "\n",
    "@objax.Jit\n",
    "@objax.Function.with_vars(model.vars())\n",
    "def loss(x, y):\n",
    "    yhat = model(x)\n",
    "    return ((yhat-y)**2).mean()\n",
    "\n",
    "grad_and_val = objax.GradValues(loss, model.vars())\n",
    "\n",
    "@objax.Jit\n",
    "@objax.Function.with_vars(model.vars()+opt.vars())\n",
    "def train_op(x, y, lr):\n",
    "    g, v = grad_and_val(x, y)\n",
    "    opt(lr=lr, grads=g)\n",
    "    return v\n",
    "\n",
    "trainloader = get_sklearn_digits_dataset(\"train\")\n",
    "testloader = get_sklearn_digits_dataset(\"test\")\n",
    "\n",
    "num_epochs = 500\n",
    "lr = 0.01\n",
    "train_losses = []\n",
    "test_losses = []\n",
    "lol = []\n",
    "for epoch in tqdm(range(num_epochs)):\n",
    "    train_losses.append(np.mean([train_op(jnp.array(x), jnp.array(y),lr) for (x,y) in trainloader]))\n",
    "    if not epoch % 10:\n",
    "        test_losses.append(np.mean([loss(jnp.array(x), jnp.array(y)) for (x,y) in testloader]))"
   ]
  },
  {
   "cell_type": "code",
   "execution_count": 56,
   "id": "236c4858-0050-4b01-9a78-af4f9ab0758b",
   "metadata": {},
   "outputs": [
    {
     "name": "stdout",
     "output_type": "stream",
     "text": [
      "(EMLP).network(Sequential)[0](EMLPBlock).linear(Linear).b          374 (374,)\n",
      "(EMLP).network(Sequential)[0](EMLPBlock).linear(Linear).w          748 (374, 2)\n",
      "(EMLP).network(Sequential)[0](EMLPBlock).bilinear(BiLinear).w    54469 (54469,)\n",
      "(EMLP).network(Sequential)[1](EMLPBlock).linear(Linear).b          374 (374,)\n",
      "(EMLP).network(Sequential)[1](EMLPBlock).linear(Linear).w       118932 (374, 318)\n",
      "(EMLP).network(Sequential)[1](EMLPBlock).bilinear(BiLinear).w    54469 (54469,)\n",
      "(EMLP).network(Sequential)[2](EMLPBlock).linear(Linear).b          374 (374,)\n",
      "(EMLP).network(Sequential)[2](EMLPBlock).linear(Linear).w       118932 (374, 318)\n",
      "(EMLP).network(Sequential)[2](EMLPBlock).bilinear(BiLinear).w    54469 (54469,)\n",
      "(EMLP).network(Sequential)[3](Linear).b                              1 (1,)\n",
      "(EMLP).network(Sequential)[3](Linear).w                            318 (1, 318)\n",
      "+Total(11)                                                      403460\n"
     ]
    }
   ],
   "source": [
    "print(model.vars())"
   ]
  },
  {
   "cell_type": "code",
   "execution_count": 67,
   "id": "a1fd1e8c-90fd-495a-b84b-b924ce1e2046",
   "metadata": {},
   "outputs": [
    {
     "name": "stdout",
     "output_type": "stream",
     "text": [
      "True 0 <torch.cuda.device object at 0x7f956c109e80> 1 Quadro RTX 5000\n"
     ]
    }
   ],
   "source": [
    "print(torch.cuda.is_available(),\n",
    "torch.cuda.current_device(),\n",
    "torch.cuda.device(0),\n",
    "torch.cuda.device_count(),\n",
    "torch.cuda.get_device_name(0))"
   ]
  },
  {
   "cell_type": "code",
   "execution_count": 17,
   "id": "229d9ab6-2fad-4752-a268-a36b73b5d818",
   "metadata": {},
   "outputs": [
    {
     "name": "stdout",
     "output_type": "stream",
     "text": [
      "Requirement already satisfied: torchvision in /home/kslote/anaconda3/lib/python3.8/site-packages (0.9.1)\n",
      "Requirement already satisfied: pillow>=4.1.1 in /home/kslote/anaconda3/lib/python3.8/site-packages (from torchvision) (8.2.0)\n",
      "Requirement already satisfied: numpy in /home/kslote/anaconda3/lib/python3.8/site-packages (from torchvision) (1.20.1)\n",
      "Requirement already satisfied: torch==1.8.1 in /home/kslote/anaconda3/lib/python3.8/site-packages (from torchvision) (1.8.1)\n",
      "Requirement already satisfied: typing-extensions in /home/kslote/anaconda3/lib/python3.8/site-packages (from torch==1.8.1->torchvision) (3.7.4.3)\n"
     ]
    }
   ],
   "source": [
    "import sys\n",
    "!{sys.executable} -m pip install torchvision"
   ]
  }
 ],
 "metadata": {
  "kernelspec": {
   "display_name": "Python 3",
   "language": "python",
   "name": "python3"
  },
  "language_info": {
   "codemirror_mode": {
    "name": "ipython",
    "version": 3
   },
   "file_extension": ".py",
   "mimetype": "text/x-python",
   "name": "python",
   "nbconvert_exporter": "python",
   "pygments_lexer": "ipython3",
   "version": "3.7.10"
  }
 },
 "nbformat": 4,
 "nbformat_minor": 5
}
