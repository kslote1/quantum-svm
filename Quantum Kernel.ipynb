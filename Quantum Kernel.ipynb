{
 "cells": [
  {
   "cell_type": "code",
   "execution_count": 95,
   "id": "0cfccdd5",
   "metadata": {},
   "outputs": [],
   "source": [
    "import matplotlib.pyplot as plt\n",
    "import numpy as np\n",
    "import umap.umap_ as umap\n",
    "\n",
    "from sklearn.svm import SVC\n",
    "from sklearn.cluster import SpectralClustering\n",
    "from sklearn.metrics import normalized_mutual_info_score\n",
    "\n",
    "from qiskit import BasicAer\n",
    "from qiskit.circuit.library import ZZFeatureMap, ZFeatureMap, PauliFeatureMap, RealAmplitudes, EfficientSU2\n",
    "from qiskit.utils import QuantumInstance, algorithm_globals\n",
    "from qiskit_machine_learning.algorithms import QSVC\n",
    "from qiskit_machine_learning.kernels import QuantumKernel\n",
    "from qiskit_machine_learning.datasets import ad_hoc_data\n",
    "from qiskit.ml.datasets import digits\n",
    "\n",
    "from qiskit.aqua.utils.dataset_helper import get_feature_dimension\n",
    "from sklearn import datasets, svm, metrics\n",
    "from sklearn.model_selection import train_test_split\n",
    "from sklearn.manifold import TSNE\n",
    "\n",
    "seed = 12345\n",
    "algorithm_globals.random_seed = seed"
   ]
  },
  {
   "cell_type": "code",
   "execution_count": 96,
   "id": "874fcb76",
   "metadata": {},
   "outputs": [
    {
     "name": "stdout",
     "output_type": "stream",
     "text": [
      "Classic Result: 0.8967861557478368\n"
     ]
    }
   ],
   "source": [
    "digits = datasets.load_digits()\n",
    "\n",
    "feature_dim = 2\n",
    "n = 2\n",
    "# flatten the images\n",
    "n_samples = len(digits.images)\n",
    "data = digits.images.reshape((n_samples, -1))\n",
    "#X = tsne(X=data, no_dims=12, initial_dims=50, perplexity=30.0)\n",
    "X = TSNE(n_components=feature_dim, method='exact').fit_transform(data)\n",
    "equivariance_dim = 2\n",
    "#X = umap.UMAP(random_state=42, n_components=equivariance_dim).fit_transform(data)\n",
    "# Create a classifier: a support vector classifier\n",
    "clf = svm.SVC(gamma=0.001)\n",
    "\n",
    "# Split data into 50% train and 50% test subsets\n",
    "X_train, X_test, y_train, y_test = train_test_split(\n",
    "    X, digits.target, test_size=0.9, shuffle=False)\n",
    "\n",
    "svc = SVC()\n",
    "svc.fit(X_train,\n",
    "        y_train)\n",
    "score = svc.score(X_test, y_test)\n",
    "\n",
    "print(f'Classic Result: {score}')"
   ]
  },
  {
   "cell_type": "code",
   "execution_count": 5,
   "id": "40ee04cf",
   "metadata": {},
   "outputs": [
    {
     "name": "stdout",
     "output_type": "stream",
     "text": [
      "With quantum kerel Result: 0.10444993819530285\n"
     ]
    }
   ],
   "source": [
    "feature_map = ZZFeatureMap(\n",
    "    feature_dimension=feature_dim,\n",
    "    reps=2,\n",
    "    entanglement='linear')\n",
    "#circuit = EfficientSU(24, reps=1)\n",
    "backend = QuantumInstance(\n",
    "    BasicAer.get_backend('statevector_simulator'),\n",
    "    shots=1024,\n",
    "    seed_simulator=seed,\n",
    "    seed_transpiler=seed)\n",
    "\n",
    "kernel = QuantumKernel(feature_map=feature_map,\n",
    "                       quantum_instance=backend)\n",
    "svc_k = SVC(kernel=kernel.evaluate)\n",
    "\n",
    "svc_k.fit(X_train,\n",
    "        y_train)\n",
    "score = svc_k.score(X_test, y_test)\n",
    "\n",
    "print(f'With quantum kerel Result: {score}')"
   ]
  },
  {
   "cell_type": "code",
   "execution_count": 99,
   "id": "15d47f05",
   "metadata": {},
   "outputs": [],
   "source": [
    "from qiskit.circuit.library import EfficientSU2\n",
    "from qiskit.circuit.library import Permutation\n",
    "from qiskit.circuit.library import RealAmplitudes\n",
    "\n",
    "var_circuit = EfficientSU2(feature_dim, reps=2)\n",
    "num_qubits = 2\n",
    "\n",
    "variational_circ = RealAmplitudes(num_qubits, entanglement='full', reps=3)\n",
    "circuit = EfficientSU2(12, reps=1)\n",
    "perm = Permutation(4)\n",
    "classifier =  ZZFeatureMap(2) + EfficientSU2(2)\n",
    "#print(classifier)\n",
    "pauli_feature_map = PauliFeatureMap(feature_dimension=feature_dim, reps=1, paulis = ['Z','X','ZY'])\n",
    "#pauli_feature_map.draw()\n",
    "kernel = QuantumKernel(\n",
    "    feature_map=var_circuit,#pauli_feature_map,\n",
    "    quantum_instance=backend\n",
    ")"
   ]
  },
  {
   "cell_type": "code",
   "execution_count": 100,
   "id": "0c74d57f",
   "metadata": {
    "scrolled": true
   },
   "outputs": [
    {
     "ename": "CircuitError",
     "evalue": "\"ParameterVector par_x, ['par_x[0]', 'par_x[1]', 'par_x[2]', 'par_x[3]', 'par_x[4]', 'par_x[5]', 'par_x[6]', 'par_x[7]', 'par_x[8]', 'par_x[9]', 'par_x[10]', 'par_x[11]'] has length 12, which differs from value list [61.994972 40.324722] of len 2\"",
     "output_type": "error",
     "traceback": [
      "\u001b[0;31m---------------------------------------------------------------------------\u001b[0m",
      "\u001b[0;31mCircuitError\u001b[0m                              Traceback (most recent call last)",
      "\u001b[0;32m<ipython-input-100-171796810c3b>\u001b[0m in \u001b[0;36m<module>\u001b[0;34m\u001b[0m\n\u001b[1;32m      1\u001b[0m \u001b[0;32mimport\u001b[0m \u001b[0mseaborn\u001b[0m \u001b[0;32mas\u001b[0m \u001b[0msns\u001b[0m\u001b[0;34m\u001b[0m\u001b[0;34m\u001b[0m\u001b[0m\n\u001b[1;32m      2\u001b[0m \u001b[0;34m\u001b[0m\u001b[0m\n\u001b[0;32m----> 3\u001b[0;31m \u001b[0mmatrix_train\u001b[0m \u001b[0;34m=\u001b[0m \u001b[0mkernel\u001b[0m\u001b[0;34m.\u001b[0m\u001b[0mevaluate\u001b[0m\u001b[0;34m(\u001b[0m\u001b[0mx_vec\u001b[0m\u001b[0;34m=\u001b[0m\u001b[0mX_train\u001b[0m\u001b[0;34m)\u001b[0m\u001b[0;34m\u001b[0m\u001b[0;34m\u001b[0m\u001b[0m\n\u001b[0m\u001b[1;32m      4\u001b[0m \u001b[0mmatrix_test\u001b[0m \u001b[0;34m=\u001b[0m \u001b[0mkernel\u001b[0m\u001b[0;34m.\u001b[0m\u001b[0mevaluate\u001b[0m\u001b[0;34m(\u001b[0m\u001b[0mx_vec\u001b[0m\u001b[0;34m=\u001b[0m\u001b[0mX_test\u001b[0m\u001b[0;34m,\u001b[0m \u001b[0my_vec\u001b[0m\u001b[0;34m=\u001b[0m\u001b[0mX_train\u001b[0m\u001b[0;34m)\u001b[0m\u001b[0;34m\u001b[0m\u001b[0;34m\u001b[0m\u001b[0m\n\u001b[1;32m      5\u001b[0m \u001b[0;34m\u001b[0m\u001b[0m\n",
      "\u001b[0;32m~/src/equivariance/quantum-svm/virt/lib/python3.8/site-packages/qiskit_machine_learning/kernels/quantum_kernel.py\u001b[0m in \u001b[0;36mevaluate\u001b[0;34m(self, x_vec, y_vec)\u001b[0m\n\u001b[1;32m    268\u001b[0m                 measurement=measurement, is_statevector_sim=is_statevector_sim)\n\u001b[1;32m    269\u001b[0m             \u001b[0mparameterized_circuit\u001b[0m \u001b[0;34m=\u001b[0m \u001b[0mself\u001b[0m\u001b[0;34m.\u001b[0m\u001b[0m_quantum_instance\u001b[0m\u001b[0;34m.\u001b[0m\u001b[0mtranspile\u001b[0m\u001b[0;34m(\u001b[0m\u001b[0mparameterized_circuit\u001b[0m\u001b[0;34m)\u001b[0m\u001b[0;34m[\u001b[0m\u001b[0;36m0\u001b[0m\u001b[0;34m]\u001b[0m\u001b[0;34m\u001b[0m\u001b[0;34m\u001b[0m\u001b[0m\n\u001b[0;32m--> 270\u001b[0;31m             circuits = [parameterized_circuit.assign_parameters({feature_map_params: x})\n\u001b[0m\u001b[1;32m    271\u001b[0m                         for x in to_be_computed_data]\n\u001b[1;32m    272\u001b[0m \u001b[0;34m\u001b[0m\u001b[0m\n",
      "\u001b[0;32m~/src/equivariance/quantum-svm/virt/lib/python3.8/site-packages/qiskit_machine_learning/kernels/quantum_kernel.py\u001b[0m in \u001b[0;36m<listcomp>\u001b[0;34m(.0)\u001b[0m\n\u001b[1;32m    268\u001b[0m                 measurement=measurement, is_statevector_sim=is_statevector_sim)\n\u001b[1;32m    269\u001b[0m             \u001b[0mparameterized_circuit\u001b[0m \u001b[0;34m=\u001b[0m \u001b[0mself\u001b[0m\u001b[0;34m.\u001b[0m\u001b[0m_quantum_instance\u001b[0m\u001b[0;34m.\u001b[0m\u001b[0mtranspile\u001b[0m\u001b[0;34m(\u001b[0m\u001b[0mparameterized_circuit\u001b[0m\u001b[0;34m)\u001b[0m\u001b[0;34m[\u001b[0m\u001b[0;36m0\u001b[0m\u001b[0;34m]\u001b[0m\u001b[0;34m\u001b[0m\u001b[0;34m\u001b[0m\u001b[0m\n\u001b[0;32m--> 270\u001b[0;31m             circuits = [parameterized_circuit.assign_parameters({feature_map_params: x})\n\u001b[0m\u001b[1;32m    271\u001b[0m                         for x in to_be_computed_data]\n\u001b[1;32m    272\u001b[0m \u001b[0;34m\u001b[0m\u001b[0m\n",
      "\u001b[0;32m~/src/equivariance/quantum-svm/virt/lib/python3.8/site-packages/qiskit/utils/deprecation.py\u001b[0m in \u001b[0;36mwrapper\u001b[0;34m(*args, **kwargs)\u001b[0m\n\u001b[1;32m     54\u001b[0m             \u001b[0;32mif\u001b[0m \u001b[0mkwargs\u001b[0m\u001b[0;34m:\u001b[0m\u001b[0;34m\u001b[0m\u001b[0;34m\u001b[0m\u001b[0m\n\u001b[1;32m     55\u001b[0m                 \u001b[0m_rename_kwargs\u001b[0m\u001b[0;34m(\u001b[0m\u001b[0mfunc\u001b[0m\u001b[0;34m.\u001b[0m\u001b[0m__name__\u001b[0m\u001b[0;34m,\u001b[0m \u001b[0mkwargs\u001b[0m\u001b[0;34m,\u001b[0m \u001b[0mkwarg_map\u001b[0m\u001b[0;34m)\u001b[0m\u001b[0;34m\u001b[0m\u001b[0;34m\u001b[0m\u001b[0m\n\u001b[0;32m---> 56\u001b[0;31m             \u001b[0;32mreturn\u001b[0m \u001b[0mfunc\u001b[0m\u001b[0;34m(\u001b[0m\u001b[0;34m*\u001b[0m\u001b[0margs\u001b[0m\u001b[0;34m,\u001b[0m \u001b[0;34m**\u001b[0m\u001b[0mkwargs\u001b[0m\u001b[0;34m)\u001b[0m\u001b[0;34m\u001b[0m\u001b[0;34m\u001b[0m\u001b[0m\n\u001b[0m\u001b[1;32m     57\u001b[0m         \u001b[0;32mreturn\u001b[0m \u001b[0mwrapper\u001b[0m\u001b[0;34m\u001b[0m\u001b[0;34m\u001b[0m\u001b[0m\n\u001b[1;32m     58\u001b[0m     \u001b[0;32mreturn\u001b[0m \u001b[0mdecorator\u001b[0m\u001b[0;34m\u001b[0m\u001b[0;34m\u001b[0m\u001b[0m\n",
      "\u001b[0;32m~/src/equivariance/quantum-svm/virt/lib/python3.8/site-packages/qiskit/circuit/quantumcircuit.py\u001b[0m in \u001b[0;36massign_parameters\u001b[0;34m(self, parameters, inplace, param_dict)\u001b[0m\n\u001b[1;32m   2041\u001b[0m         \u001b[0;32mif\u001b[0m \u001b[0misinstance\u001b[0m\u001b[0;34m(\u001b[0m\u001b[0mparameters\u001b[0m\u001b[0;34m,\u001b[0m \u001b[0mdict\u001b[0m\u001b[0;34m)\u001b[0m\u001b[0;34m:\u001b[0m\u001b[0;34m\u001b[0m\u001b[0;34m\u001b[0m\u001b[0m\n\u001b[1;32m   2042\u001b[0m             \u001b[0;31m# unroll the parameter dictionary (needed if e.g. it contains a ParameterVector)\u001b[0m\u001b[0;34m\u001b[0m\u001b[0;34m\u001b[0m\u001b[0;34m\u001b[0m\u001b[0m\n\u001b[0;32m-> 2043\u001b[0;31m             \u001b[0munrolled_param_dict\u001b[0m \u001b[0;34m=\u001b[0m \u001b[0mself\u001b[0m\u001b[0;34m.\u001b[0m\u001b[0m_unroll_param_dict\u001b[0m\u001b[0;34m(\u001b[0m\u001b[0mparameters\u001b[0m\u001b[0;34m)\u001b[0m\u001b[0;34m\u001b[0m\u001b[0;34m\u001b[0m\u001b[0m\n\u001b[0m\u001b[1;32m   2044\u001b[0m             \u001b[0munsorted_parameters\u001b[0m \u001b[0;34m=\u001b[0m \u001b[0mself\u001b[0m\u001b[0;34m.\u001b[0m\u001b[0m_unsorted_parameters\u001b[0m\u001b[0;34m(\u001b[0m\u001b[0;34m)\u001b[0m\u001b[0;34m\u001b[0m\u001b[0;34m\u001b[0m\u001b[0m\n\u001b[1;32m   2045\u001b[0m \u001b[0;34m\u001b[0m\u001b[0m\n",
      "\u001b[0;32m~/src/equivariance/quantum-svm/virt/lib/python3.8/site-packages/qiskit/circuit/quantumcircuit.py\u001b[0m in \u001b[0;36m_unroll_param_dict\u001b[0;34m(self, value_dict)\u001b[0m\n\u001b[1;32m   2096\u001b[0m             \u001b[0;32mif\u001b[0m \u001b[0misinstance\u001b[0m\u001b[0;34m(\u001b[0m\u001b[0mparam\u001b[0m\u001b[0;34m,\u001b[0m \u001b[0mParameterVector\u001b[0m\u001b[0;34m)\u001b[0m\u001b[0;34m:\u001b[0m\u001b[0;34m\u001b[0m\u001b[0;34m\u001b[0m\u001b[0m\n\u001b[1;32m   2097\u001b[0m                 \u001b[0;32mif\u001b[0m \u001b[0;32mnot\u001b[0m \u001b[0mlen\u001b[0m\u001b[0;34m(\u001b[0m\u001b[0mparam\u001b[0m\u001b[0;34m)\u001b[0m \u001b[0;34m==\u001b[0m \u001b[0mlen\u001b[0m\u001b[0;34m(\u001b[0m\u001b[0mvalue\u001b[0m\u001b[0;34m)\u001b[0m\u001b[0;34m:\u001b[0m\u001b[0;34m\u001b[0m\u001b[0;34m\u001b[0m\u001b[0m\n\u001b[0;32m-> 2098\u001b[0;31m                     raise CircuitError('ParameterVector {} has length {}, which '\n\u001b[0m\u001b[1;32m   2099\u001b[0m                                        \u001b[0;34m'differs from value list {} of '\u001b[0m\u001b[0;34m\u001b[0m\u001b[0;34m\u001b[0m\u001b[0m\n\u001b[1;32m   2100\u001b[0m                                        'len {}'.format(param, len(param), value, len(value)))\n",
      "\u001b[0;31mCircuitError\u001b[0m: \"ParameterVector par_x, ['par_x[0]', 'par_x[1]', 'par_x[2]', 'par_x[3]', 'par_x[4]', 'par_x[5]', 'par_x[6]', 'par_x[7]', 'par_x[8]', 'par_x[9]', 'par_x[10]', 'par_x[11]'] has length 12, which differs from value list [61.994972 40.324722] of len 2\""
     ]
    }
   ],
   "source": [
    "import seaborn as sns\n",
    "\n",
    "matrix_train = kernel.evaluate(x_vec=X_train)\n",
    "matrix_test = kernel.evaluate(x_vec=X_test, y_vec=X_train)\n",
    "\n",
    "fig, axs = plt.subplots(1, 2, figsize=(10, 5), facecolor='w')\n",
    "axs[0].imshow(np.asmatrix(matrix_train),\n",
    "              interpolation='nearest', origin='upper', cmap='Blues')\n",
    "axs[0].set_title(\"Quantum Training Kernel Matrix\")\n",
    "axs[1].imshow(np.asmatrix(matrix_test),\n",
    "              interpolation='nearest', origin='upper', cmap='Reds')\n",
    "axs[1].set_title(\"Quantum Test Kernel Matrix\")\n",
    "plt.show()"
   ]
  },
  {
   "cell_type": "code",
   "execution_count": 93,
   "id": "5587e509",
   "metadata": {},
   "outputs": [
    {
     "name": "stdout",
     "output_type": "stream",
     "text": [
      "QSVC classification test score: 0.18046971569839307\n"
     ]
    }
   ],
   "source": [
    "qsvc = QSVC(quantum_kernel=kernel)\n",
    "qsvc.fit(X_train, y_train)\n",
    "qsvc_score = qsvc.score(X_test, y_test)\n",
    "\n",
    "print(f'QSVC classification test score: {qsvc_score}')"
   ]
  },
  {
   "cell_type": "code",
   "execution_count": 33,
   "id": "d7088e5a",
   "metadata": {},
   "outputs": [
    {
     "name": "stdout",
     "output_type": "stream",
     "text": [
      "Found existing installation: umap 0.1.1\r\n",
      "Uninstalling umap-0.1.1:\r\n",
      "  Successfully uninstalled umap-0.1.1\r\n"
     ]
    }
   ],
   "source": [
    "import sys\n",
    "!{sys.executable} -m pip uninstall umap --yes"
   ]
  },
  {
   "cell_type": "code",
   "execution_count": 2,
   "id": "a12f9df7",
   "metadata": {},
   "outputs": [
    {
     "name": "stdout",
     "output_type": "stream",
     "text": [
      "Collecting qiskit_machine_learning\n",
      "  Downloading qiskit_machine_learning-0.1.0-py3-none-any.whl (84 kB)\n",
      "\u001b[K     |████████████████████████████████| 84 kB 1.6 MB/s eta 0:00:011\n",
      "\u001b[?25hRequirement already satisfied: scipy>=1.4 in ./virt/lib/python3.8/site-packages (from qiskit_machine_learning) (1.6.1)\n",
      "Collecting sparse\n",
      "  Using cached sparse-0.12.0-py2.py3-none-any.whl (76 kB)\n",
      "Requirement already satisfied: psutil>=5 in ./virt/lib/python3.8/site-packages (from qiskit_machine_learning) (5.8.0)\n",
      "Requirement already satisfied: qiskit-terra>=0.17.0 in ./virt/lib/python3.8/site-packages (from qiskit_machine_learning) (0.17.3)\n",
      "Requirement already satisfied: numpy>=1.17 in ./virt/lib/python3.8/site-packages (from qiskit_machine_learning) (1.20.1)\n",
      "Requirement already satisfied: scikit-learn>=0.20.0 in ./virt/lib/python3.8/site-packages (from qiskit_machine_learning) (0.24.1)\n",
      "Requirement already satisfied: fastdtw in ./virt/lib/python3.8/site-packages (from qiskit_machine_learning) (0.3.4)\n",
      "Requirement already satisfied: setuptools>=40.1.0 in ./virt/lib/python3.8/site-packages (from qiskit_machine_learning) (56.0.0)\n",
      "Requirement already satisfied: jsonschema>=2.6 in ./virt/lib/python3.8/site-packages (from qiskit-terra>=0.17.0->qiskit_machine_learning) (3.2.0)\n",
      "Requirement already satisfied: python-dateutil>=2.8.0 in ./virt/lib/python3.8/site-packages (from qiskit-terra>=0.17.0->qiskit_machine_learning) (2.8.1)\n",
      "Requirement already satisfied: fastjsonschema>=2.10 in ./virt/lib/python3.8/site-packages (from qiskit-terra>=0.17.0->qiskit_machine_learning) (2.15.1)\n",
      "Requirement already satisfied: sympy>=1.3 in ./virt/lib/python3.8/site-packages (from qiskit-terra>=0.17.0->qiskit_machine_learning) (1.7.1)\n",
      "Requirement already satisfied: python-constraint>=1.4 in ./virt/lib/python3.8/site-packages (from qiskit-terra>=0.17.0->qiskit_machine_learning) (1.4.0)\n",
      "Requirement already satisfied: dill>=0.3 in ./virt/lib/python3.8/site-packages (from qiskit-terra>=0.17.0->qiskit_machine_learning) (0.3.3)\n",
      "Requirement already satisfied: ply>=3.10 in ./virt/lib/python3.8/site-packages (from qiskit-terra>=0.17.0->qiskit_machine_learning) (3.11)\n",
      "Requirement already satisfied: retworkx>=0.8.0 in ./virt/lib/python3.8/site-packages (from qiskit-terra>=0.17.0->qiskit_machine_learning) (0.8.0)\n",
      "Requirement already satisfied: pyrsistent>=0.14.0 in ./virt/lib/python3.8/site-packages (from jsonschema>=2.6->qiskit-terra>=0.17.0->qiskit_machine_learning) (0.17.3)\n",
      "Requirement already satisfied: attrs>=17.4.0 in ./virt/lib/python3.8/site-packages (from jsonschema>=2.6->qiskit-terra>=0.17.0->qiskit_machine_learning) (21.2.0)\n",
      "Requirement already satisfied: six>=1.11.0 in ./virt/lib/python3.8/site-packages (from jsonschema>=2.6->qiskit-terra>=0.17.0->qiskit_machine_learning) (1.16.0)\n",
      "Requirement already satisfied: joblib>=0.11 in ./virt/lib/python3.8/site-packages (from scikit-learn>=0.20.0->qiskit_machine_learning) (1.0.1)\n",
      "Requirement already satisfied: threadpoolctl>=2.0.0 in ./virt/lib/python3.8/site-packages (from scikit-learn>=0.20.0->qiskit_machine_learning) (2.1.0)\n",
      "Requirement already satisfied: mpmath>=0.19 in ./virt/lib/python3.8/site-packages (from sympy>=1.3->qiskit-terra>=0.17.0->qiskit_machine_learning) (1.2.1)\n",
      "Collecting numba>=0.49\n",
      "  Using cached numba-0.53.1-cp38-cp38-macosx_10_14_x86_64.whl (2.2 MB)\n",
      "Collecting llvmlite<0.37,>=0.36.0rc1\n",
      "  Using cached llvmlite-0.36.0-cp38-cp38-macosx_10_9_x86_64.whl (18.5 MB)\n",
      "Installing collected packages: llvmlite, numba, sparse, qiskit-machine-learning\n",
      "Successfully installed llvmlite-0.36.0 numba-0.53.1 qiskit-machine-learning-0.1.0 sparse-0.12.0\n",
      "\u001b[33mWARNING: You are using pip version 21.0.1; however, version 21.1.1 is available.\n",
      "You should consider upgrading via the '/Users/kslote/src/equivariance/quantum-svm/virt/bin/python -m pip install --upgrade pip' command.\u001b[0m\n"
     ]
    }
   ],
   "source": [
    "import sys\n",
    "!{sys.executable} -m pip install qiskit_machine_learning"
   ]
  }
 ],
 "metadata": {
  "kernelspec": {
   "display_name": "Python 3",
   "language": "python",
   "name": "python3"
  },
  "language_info": {
   "codemirror_mode": {
    "name": "ipython",
    "version": 3
   },
   "file_extension": ".py",
   "mimetype": "text/x-python",
   "name": "python",
   "nbconvert_exporter": "python",
   "pygments_lexer": "ipython3",
   "version": "3.8.8rc1"
  }
 },
 "nbformat": 4,
 "nbformat_minor": 5
}
